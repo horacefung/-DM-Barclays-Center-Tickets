{
 "cells": [
  {
   "cell_type": "markdown",
   "metadata": {},
   "source": [
    "# Part 0: Creating SQL Database\n",
    "\n",
    "In this notebook, I will be cleaning up the Nets tickets data and uploading it to a MySQL database for speed purposes (Jupyter does not save data after you close it, and its much slower for me to load everything from excel each time + we might engineer some features that we want saved somewhere). The code is by in large the same."
   ]
  },
  {
   "cell_type": "code",
   "execution_count": 18,
   "metadata": {},
   "outputs": [],
   "source": [
    "#Importing packages\n",
    "import pandas as pd\n",
    "from datetime import datetime\n",
    "import MySQLdb as mdb"
   ]
  },
  {
   "cell_type": "code",
   "execution_count": 2,
   "metadata": {},
   "outputs": [],
   "source": [
    "#First step is to read the data. I uploaded to my AWS but you can do the same on jupyterhub\n",
    "nets= pd.read_excel('nets.xlsx', 'Nets') #I usually prefer read_csv(), but read_excel lets us select sheet\n",
    "location = pd.read_excel('nets.xlsx', 'Location') #Selecting Location sheet"
   ]
  },
  {
   "cell_type": "code",
   "execution_count": 3,
   "metadata": {},
   "outputs": [
    {
     "data": {
      "text/html": [
       "<div>\n",
       "<style scoped>\n",
       "    .dataframe tbody tr th:only-of-type {\n",
       "        vertical-align: middle;\n",
       "    }\n",
       "\n",
       "    .dataframe tbody tr th {\n",
       "        vertical-align: top;\n",
       "    }\n",
       "\n",
       "    .dataframe thead th {\n",
       "        text-align: right;\n",
       "    }\n",
       "</style>\n",
       "<table border=\"1\" class=\"dataframe\">\n",
       "  <thead>\n",
       "    <tr style=\"text-align: right;\">\n",
       "      <th></th>\n",
       "      <th>PC</th>\n",
       "      <th>Invoice Date</th>\n",
       "      <th>Team</th>\n",
       "      <th>Opponent</th>\n",
       "      <th>EventDate</th>\n",
       "      <th>Section</th>\n",
       "      <th>Row</th>\n",
       "      <th>BegSeat</th>\n",
       "      <th>EndSeat</th>\n",
       "      <th>Qty</th>\n",
       "      <th>Cost</th>\n",
       "      <th>Revenue</th>\n",
       "      <th>Profit</th>\n",
       "      <th>Margin</th>\n",
       "      <th>Channel</th>\n",
       "      <th>Vendor</th>\n",
       "      <th>Ticket Type</th>\n",
       "      <th>Status</th>\n",
       "      <th>Sale (0Y/1N)</th>\n",
       "    </tr>\n",
       "  </thead>\n",
       "  <tbody>\n",
       "    <tr>\n",
       "      <th>0</th>\n",
       "      <td>1</td>\n",
       "      <td>2016-08-17 21:02:46.293</td>\n",
       "      <td>Brooklyn Nets</td>\n",
       "      <td>Cleveland Cavaliers</td>\n",
       "      <td>2017-01-06</td>\n",
       "      <td>225</td>\n",
       "      <td>19</td>\n",
       "      <td>16.0</td>\n",
       "      <td>18.0</td>\n",
       "      <td>3.0</td>\n",
       "      <td>54.0</td>\n",
       "      <td>391.68</td>\n",
       "      <td>337.68</td>\n",
       "      <td>0.862132</td>\n",
       "      <td>StubHub</td>\n",
       "      <td>DSE - Brooklyn Nets (New)</td>\n",
       "      <td>Seasons</td>\n",
       "      <td>Sold</td>\n",
       "      <td>0.0</td>\n",
       "    </tr>\n",
       "    <tr>\n",
       "      <th>1</th>\n",
       "      <td>1</td>\n",
       "      <td>2016-08-21 19:15:20.103</td>\n",
       "      <td>Brooklyn Nets</td>\n",
       "      <td>New York Knicks</td>\n",
       "      <td>2016-10-20</td>\n",
       "      <td>207</td>\n",
       "      <td>21</td>\n",
       "      <td>9.0</td>\n",
       "      <td>10.0</td>\n",
       "      <td>2.0</td>\n",
       "      <td>0.0</td>\n",
       "      <td>72.70</td>\n",
       "      <td>72.70</td>\n",
       "      <td>1.000000</td>\n",
       "      <td>Ticketmaster</td>\n",
       "      <td>DSE - Brooklyn Nets (New)</td>\n",
       "      <td>Seasons</td>\n",
       "      <td>Sold</td>\n",
       "      <td>0.0</td>\n",
       "    </tr>\n",
       "    <tr>\n",
       "      <th>2</th>\n",
       "      <td>1</td>\n",
       "      <td>2016-08-22 09:03:44.093</td>\n",
       "      <td>Brooklyn Nets</td>\n",
       "      <td>New York Knicks</td>\n",
       "      <td>2016-10-20</td>\n",
       "      <td>223</td>\n",
       "      <td>22</td>\n",
       "      <td>5.0</td>\n",
       "      <td>6.0</td>\n",
       "      <td>2.0</td>\n",
       "      <td>0.0</td>\n",
       "      <td>45.96</td>\n",
       "      <td>45.96</td>\n",
       "      <td>1.000000</td>\n",
       "      <td>Ticketmaster</td>\n",
       "      <td>DSE - Brooklyn Nets (New)</td>\n",
       "      <td>Seasons</td>\n",
       "      <td>Sold</td>\n",
       "      <td>0.0</td>\n",
       "    </tr>\n",
       "  </tbody>\n",
       "</table>\n",
       "</div>"
      ],
      "text/plain": [
       "  PC            Invoice Date           Team             Opponent  EventDate  \\\n",
       "0  1 2016-08-17 21:02:46.293  Brooklyn Nets  Cleveland Cavaliers 2017-01-06   \n",
       "1  1 2016-08-21 19:15:20.103  Brooklyn Nets      New York Knicks 2016-10-20   \n",
       "2  1 2016-08-22 09:03:44.093  Brooklyn Nets      New York Knicks 2016-10-20   \n",
       "\n",
       "  Section Row  BegSeat  EndSeat  Qty  Cost  Revenue  Profit    Margin  \\\n",
       "0     225  19     16.0     18.0  3.0  54.0   391.68  337.68  0.862132   \n",
       "1     207  21      9.0     10.0  2.0   0.0    72.70   72.70  1.000000   \n",
       "2     223  22      5.0      6.0  2.0   0.0    45.96   45.96  1.000000   \n",
       "\n",
       "        Channel                     Vendor Ticket Type Status  Sale (0Y/1N)  \n",
       "0       StubHub  DSE - Brooklyn Nets (New)     Seasons   Sold           0.0  \n",
       "1  Ticketmaster  DSE - Brooklyn Nets (New)     Seasons   Sold           0.0  \n",
       "2  Ticketmaster  DSE - Brooklyn Nets (New)     Seasons   Sold           0.0  "
      ]
     },
     "execution_count": 3,
     "metadata": {},
     "output_type": "execute_result"
    }
   ],
   "source": [
    "#Preview of nets_data as a dataframe. Notice we have no index right now (column far left is 0,1,2,... digits)\n",
    "nets.head(3)"
   ]
  },
  {
   "cell_type": "code",
   "execution_count": 4,
   "metadata": {},
   "outputs": [
    {
     "data": {
      "text/html": [
       "<div>\n",
       "<style scoped>\n",
       "    .dataframe tbody tr th:only-of-type {\n",
       "        vertical-align: middle;\n",
       "    }\n",
       "\n",
       "    .dataframe tbody tr th {\n",
       "        vertical-align: top;\n",
       "    }\n",
       "\n",
       "    .dataframe thead th {\n",
       "        text-align: right;\n",
       "    }\n",
       "</style>\n",
       "<table border=\"1\" class=\"dataframe\">\n",
       "  <thead>\n",
       "    <tr style=\"text-align: right;\">\n",
       "      <th></th>\n",
       "      <th>Concat</th>\n",
       "      <th>AA</th>\n",
       "      <th>Tier</th>\n",
       "      <th>Location</th>\n",
       "      <th>Detail</th>\n",
       "      <th>Full Loc</th>\n",
       "      <th>Parent PC</th>\n",
       "    </tr>\n",
       "  </thead>\n",
       "  <tbody>\n",
       "    <tr>\n",
       "      <th>0</th>\n",
       "      <td>1_1</td>\n",
       "      <td>Non-AA</td>\n",
       "      <td>Lower</td>\n",
       "      <td>Light Green</td>\n",
       "      <td>Row 1</td>\n",
       "      <td>Light Green-Row 1</td>\n",
       "      <td>N</td>\n",
       "    </tr>\n",
       "    <tr>\n",
       "      <th>1</th>\n",
       "      <td>1_2</td>\n",
       "      <td>Non-AA</td>\n",
       "      <td>Lower</td>\n",
       "      <td>Light Green</td>\n",
       "      <td>Row 2</td>\n",
       "      <td>Light Green-Row 2</td>\n",
       "      <td>N</td>\n",
       "    </tr>\n",
       "    <tr>\n",
       "      <th>2</th>\n",
       "      <td>1_3</td>\n",
       "      <td>Non-AA</td>\n",
       "      <td>Lower</td>\n",
       "      <td>Light Green</td>\n",
       "      <td>Row 3</td>\n",
       "      <td>Light Green-Row 3</td>\n",
       "      <td>Q</td>\n",
       "    </tr>\n",
       "  </tbody>\n",
       "</table>\n",
       "</div>"
      ],
      "text/plain": [
       "  Concat      AA   Tier     Location Detail           Full Loc Parent PC\n",
       "0    1_1  Non-AA  Lower  Light Green  Row 1  Light Green-Row 1         N\n",
       "1    1_2  Non-AA  Lower  Light Green  Row 2  Light Green-Row 2         N\n",
       "2    1_3  Non-AA  Lower  Light Green  Row 3  Light Green-Row 3         Q"
      ]
     },
     "execution_count": 4,
     "metadata": {},
     "output_type": "execute_result"
    }
   ],
   "source": [
    "#Preview of location_data\n",
    "location.head(3)"
   ]
  },
  {
   "cell_type": "code",
   "execution_count": 5,
   "metadata": {},
   "outputs": [
    {
     "data": {
      "text/plain": [
       "PC                      object\n",
       "Invoice Date    datetime64[ns]\n",
       "Team                    object\n",
       "Opponent                object\n",
       "EventDate       datetime64[ns]\n",
       "Section                 object\n",
       "Row                     object\n",
       "BegSeat                float64\n",
       "EndSeat                float64\n",
       "Qty                    float64\n",
       "Cost                   float64\n",
       "Revenue                float64\n",
       "Profit                 float64\n",
       "Margin                 float64\n",
       "Channel                 object\n",
       "Vendor                  object\n",
       "Ticket Type             object\n",
       "Status                  object\n",
       "Sale (0Y/1N)           float64\n",
       "dtype: object"
      ]
     },
     "execution_count": 5,
     "metadata": {},
     "output_type": "execute_result"
    }
   ],
   "source": [
    "#Check out the data types in nets_data, useful when we begin manipulating stuff\n",
    "nets.dtypes"
   ]
  },
  {
   "cell_type": "code",
   "execution_count": 6,
   "metadata": {},
   "outputs": [
    {
     "data": {
      "text/plain": [
       "(62993, 19)"
      ]
     },
     "execution_count": 6,
     "metadata": {},
     "output_type": "execute_result"
    }
   ],
   "source": [
    "nets.shape"
   ]
  },
  {
   "cell_type": "code",
   "execution_count": 7,
   "metadata": {},
   "outputs": [
    {
     "data": {
      "text/plain": [
       "Concat       object\n",
       "AA           object\n",
       "Tier         object\n",
       "Location     object\n",
       "Detail       object\n",
       "Full Loc     object\n",
       "Parent PC    object\n",
       "dtype: object"
      ]
     },
     "execution_count": 7,
     "metadata": {},
     "output_type": "execute_result"
    }
   ],
   "source": [
    "location.dtypes"
   ]
  },
  {
   "cell_type": "markdown",
   "metadata": {},
   "source": [
    "## Step 0.1: Creating indices/instances for nets data\n",
    "\n",
    "The first step is to create indices for nets table. We need some unique labels for querying later on. Also a great way to check duplicates and get a sense of the data."
   ]
  },
  {
   "cell_type": "code",
   "execution_count": 8,
   "metadata": {},
   "outputs": [],
   "source": [
    "nets_data = nets\n",
    "nets_data = nets_data.dropna(axis=0, how = 'all')"
   ]
  },
  {
   "cell_type": "code",
   "execution_count": 9,
   "metadata": {},
   "outputs": [],
   "source": [
    "#define a function to create our instances. It's cleaner to define functions rather than for-loop everything\n",
    "#To create a unique instance, we need Date + Seat Position, which will never repeat.\n",
    "#lambda x sets each row on the column as x, then applies the strfttime method. Just imagine the code moving\n",
    "#down the column one by one and converting the date to string. \n",
    "#Trying to format the instance like \"06/01/2017_225s_19r\"\n",
    "\n",
    "def instance_maker(date, section, row, beg, end):\n",
    "    d = date.apply(lambda x: datetime.strftime(x, '%d/%m/%Y')) \n",
    "    sec = section.apply(str) #similar logic as above, just simplier\n",
    "    row = row.apply(str)\n",
    "    beg = beg.apply(str)\n",
    "    end = end.apply(str)\n",
    "    instance = d + \"_\" + sec + \"/\" + row + \"/\" + beg + \"/\" + end #add our formated columns together\n",
    "    return instance"
   ]
  },
  {
   "cell_type": "code",
   "execution_count": 10,
   "metadata": {},
   "outputs": [
    {
     "name": "stderr",
     "output_type": "stream",
     "text": [
      "/usr/local/lib/python3.5/dist-packages/ipykernel_launcher.py:4: SettingWithCopyWarning: \n",
      "A value is trying to be set on a copy of a slice from a DataFrame.\n",
      "Try using .loc[row_indexer,col_indexer] = value instead\n",
      "\n",
      "See the caveats in the documentation: http://pandas.pydata.org/pandas-docs/stable/indexing.html#indexing-view-versus-copy\n",
      "  after removing the cwd from sys.path.\n"
     ]
    }
   ],
   "source": [
    "#Use our function here to create the index column\n",
    "#Then set that column as the index (honestly not necessary for SQL, but might as well for clarity)\n",
    "nets_data['instance'] = instance_maker(nets_data['EventDate'], nets_data['Section'], nets_data['Row'],\n",
    "                                      nets_data['BegSeat'], nets_data['EndSeat'])\n",
    "#nets_data.set_index('instance', inplace = True) #inplace = True just tells python not to make a new df, and edit current one\n",
    "\n",
    "nets_data = nets_data.drop('Status', 1) #Drop status column since we converted to binary already\n",
    "nets_data = nets_data.drop('Team', 1) #All the games are Nets\n",
    "nets_data = nets_data.reset_index(drop=True)"
   ]
  },
  {
   "cell_type": "code",
   "execution_count": 11,
   "metadata": {},
   "outputs": [
    {
     "data": {
      "text/plain": [
       "(62990, 18)"
      ]
     },
     "execution_count": 11,
     "metadata": {},
     "output_type": "execute_result"
    }
   ],
   "source": [
    "nets_data.shape #making sure no row was lost due to a mistake"
   ]
  },
  {
   "cell_type": "markdown",
   "metadata": {},
   "source": [
    "## Step 0.2 Clean up location key data\n",
    "\n",
    "**IMPORTANT:** Ignore location key for now, might have to do some regex. The 'detail' gives a range of seats + Parent PC to match; use regex to get the range + if conditions for single value ones."
   ]
  },
  {
   "cell_type": "code",
   "execution_count": 12,
   "metadata": {},
   "outputs": [],
   "source": [
    "location_data = location #make a copy for convenience "
   ]
  },
  {
   "cell_type": "code",
   "execution_count": 13,
   "metadata": {},
   "outputs": [],
   "source": [
    "location_data = location_data.drop(location_data[location_data['AA'] == 'Kill'].index)\n",
    "location_data = location_data.drop(location_data[location_data['Parent PC'] == 6].index) #do it this way\n",
    "location_data = location_data.drop(location_data[location_data['Parent PC'] == 7].index) #because there is string\n",
    "location_data = location_data.drop(location_data[location_data['Parent PC'] == 8].index) #nets data set does not\n",
    "location_data = location_data.drop(location_data[location_data['Parent PC'] == 9].index) #have these numbers\n",
    "location_data = location_data.dropna()\n",
    "location_data = location_data.reset_index(drop=True)"
   ]
  },
  {
   "cell_type": "code",
   "execution_count": 14,
   "metadata": {},
   "outputs": [
    {
     "data": {
      "text/html": [
       "<div>\n",
       "<style scoped>\n",
       "    .dataframe tbody tr th:only-of-type {\n",
       "        vertical-align: middle;\n",
       "    }\n",
       "\n",
       "    .dataframe tbody tr th {\n",
       "        vertical-align: top;\n",
       "    }\n",
       "\n",
       "    .dataframe thead th {\n",
       "        text-align: right;\n",
       "    }\n",
       "</style>\n",
       "<table border=\"1\" class=\"dataframe\">\n",
       "  <thead>\n",
       "    <tr style=\"text-align: right;\">\n",
       "      <th></th>\n",
       "      <th>Concat</th>\n",
       "      <th>AA</th>\n",
       "      <th>Tier</th>\n",
       "      <th>Location</th>\n",
       "      <th>Detail</th>\n",
       "      <th>Full Loc</th>\n",
       "      <th>Parent PC</th>\n",
       "    </tr>\n",
       "  </thead>\n",
       "  <tbody>\n",
       "    <tr>\n",
       "      <th>1099</th>\n",
       "      <td>201SR_GA1</td>\n",
       "      <td>SR-GA</td>\n",
       "      <td>SR-GA</td>\n",
       "      <td>SR-GA</td>\n",
       "      <td>SR-GA</td>\n",
       "      <td>Standing Room</td>\n",
       "      <td>5</td>\n",
       "    </tr>\n",
       "    <tr>\n",
       "      <th>1100</th>\n",
       "      <td>215SR_GA1</td>\n",
       "      <td>SR-GA</td>\n",
       "      <td>SR-GA</td>\n",
       "      <td>SR-GA</td>\n",
       "      <td>SR-GA</td>\n",
       "      <td>Standing Room</td>\n",
       "      <td>5</td>\n",
       "    </tr>\n",
       "    <tr>\n",
       "      <th>1101</th>\n",
       "      <td>217SR_GA1</td>\n",
       "      <td>SR-GA</td>\n",
       "      <td>SR-GA</td>\n",
       "      <td>SR-GA</td>\n",
       "      <td>SR-GA</td>\n",
       "      <td>Standing Room</td>\n",
       "      <td>5</td>\n",
       "    </tr>\n",
       "    <tr>\n",
       "      <th>1102</th>\n",
       "      <td>231SR_GA1</td>\n",
       "      <td>SR-GA</td>\n",
       "      <td>SR-GA</td>\n",
       "      <td>SR-GA</td>\n",
       "      <td>SR-GA</td>\n",
       "      <td>Standing Room</td>\n",
       "      <td>5</td>\n",
       "    </tr>\n",
       "    <tr>\n",
       "      <th>1103</th>\n",
       "      <td>HCL_GA1</td>\n",
       "      <td>SR-GA</td>\n",
       "      <td>SR-GA</td>\n",
       "      <td>SR-GA</td>\n",
       "      <td>SR-GA</td>\n",
       "      <td>Standing Room</td>\n",
       "      <td>5</td>\n",
       "    </tr>\n",
       "  </tbody>\n",
       "</table>\n",
       "</div>"
      ],
      "text/plain": [
       "         Concat     AA   Tier Location Detail       Full Loc Parent PC\n",
       "1099  201SR_GA1  SR-GA  SR-GA    SR-GA  SR-GA  Standing Room         5\n",
       "1100  215SR_GA1  SR-GA  SR-GA    SR-GA  SR-GA  Standing Room         5\n",
       "1101  217SR_GA1  SR-GA  SR-GA    SR-GA  SR-GA  Standing Room         5\n",
       "1102  231SR_GA1  SR-GA  SR-GA    SR-GA  SR-GA  Standing Room         5\n",
       "1103    HCL_GA1  SR-GA  SR-GA    SR-GA  SR-GA  Standing Room         5"
      ]
     },
     "execution_count": 14,
     "metadata": {},
     "output_type": "execute_result"
    }
   ],
   "source": [
    "location_data.tail(5)"
   ]
  },
  {
   "cell_type": "markdown",
   "metadata": {},
   "source": [
    "## Step 0.3: Upload dataframes to MySQL database"
   ]
  },
  {
   "cell_type": "code",
   "execution_count": 19,
   "metadata": {},
   "outputs": [],
   "source": [
    "#Connecting to MySQL database\n",
    "con = mdb.connect(host = 'localhost', \n",
    "                  user = 'root',\n",
    "                  passwd = '<password>', \n",
    "                  charset='utf8', use_unicode=True);"
   ]
  },
  {
   "cell_type": "code",
   "execution_count": 20,
   "metadata": {},
   "outputs": [
    {
     "name": "stderr",
     "output_type": "stream",
     "text": [
      "/usr/local/lib/python3.5/dist-packages/ipykernel_launcher.py:7: Warning: (1007, \"Can't create database 'data_mining'; database exists\")\n",
      "  import sys\n"
     ]
    }
   ],
   "source": [
    "# Run a query to create a database that will hold the data\n",
    "db_name = 'data_mining'\n",
    "create_db_query = \"CREATE DATABASE IF NOT EXISTS {db} DEFAULT CHARACTER SET 'utf8'\".format(db=db_name)\n",
    "\n",
    "# Create a database\n",
    "cursor = con.cursor()\n",
    "cursor.execute(create_db_query)\n",
    "cursor.close()"
   ]
  },
  {
   "cell_type": "code",
   "execution_count": 21,
   "metadata": {},
   "outputs": [],
   "source": [
    "#Create a table for Trending_Descriptions (static data)\n",
    "cursor = con.cursor()\n",
    "table_name = 'nets_tickets'\n",
    "# Create a table\n",
    "# The {db} and {table} are placeholders for the parameters in the format(....) statement\n",
    "create_table_query = '''CREATE TABLE IF NOT EXISTS {db}.{table} \n",
    "                                (instance varchar(250),\n",
    "                                pc varchar(250), \n",
    "                                invoice_date datetime,\n",
    "                                opponent varchar(250),\n",
    "                                event_date datetime,\n",
    "                                section varchar(250),\n",
    "                                row varchar(250),\n",
    "                                begseat int,\n",
    "                                endseat int,\n",
    "                                quantity int,\n",
    "                                cost decimal(10,2),\n",
    "                                revenue decimal(10,2),\n",
    "                                profit decimal(10,2),\n",
    "                                margin decimal(10,2),\n",
    "                                channel varchar(250),\n",
    "                                vendor varchar(250),\n",
    "                                ticket_type varchar(250),\n",
    "                                sold int,\n",
    "                                PRIMARY KEY(instance)\n",
    "                                )'''.format(db=db_name, table=table_name)\n",
    "\n",
    "cursor.execute(create_table_query)\n",
    "cursor.close()"
   ]
  },
  {
   "cell_type": "code",
   "execution_count": 64,
   "metadata": {},
   "outputs": [],
   "source": [
    "#Create a table for Trending_Descriptions (static data)\n",
    "cursor = con.cursor()\n",
    "table_name = 'location_key'\n",
    "# Create a table\n",
    "# The {db} and {table} are placeholders for the parameters in the format(....) statement\n",
    "create_table_query = '''CREATE TABLE IF NOT EXISTS {db}.{table} \n",
    "                                (concat varchar(250),\n",
    "                                parent_pc varchar(250),\n",
    "                                aa varchar(250), \n",
    "                                tier varchar(250),\n",
    "                                location varchar(250),\n",
    "                                detail varchar(250),\n",
    "                                full_loc varchar(250),\n",
    "                                PRIMARY KEY(concat)\n",
    "                                )'''.format(db=db_name, table=table_name)\n",
    "\n",
    "cursor.execute(create_table_query)\n",
    "cursor.close()"
   ]
  },
  {
   "cell_type": "code",
   "execution_count": 22,
   "metadata": {},
   "outputs": [
    {
     "name": "stderr",
     "output_type": "stream",
     "text": [
      "/usr/local/lib/python3.5/dist-packages/ipykernel_launcher.py:51: Warning: (1265, \"Data truncated for column 'margin' at row 1\")\n",
      "/usr/local/lib/python3.5/dist-packages/ipykernel_launcher.py:51: Warning: (1265, \"Data truncated for column 'revenue' at row 1\")\n",
      "/usr/local/lib/python3.5/dist-packages/ipykernel_launcher.py:51: Warning: (1265, \"Data truncated for column 'profit' at row 1\")\n",
      "/usr/local/lib/python3.5/dist-packages/ipykernel_launcher.py:51: Warning: (1265, \"Data truncated for column 'cost' at row 1\")\n"
     ]
    }
   ],
   "source": [
    "#Creating description table and fetch data \n",
    "cursor = con.cursor()\n",
    "table_name = 'nets_tickets'\n",
    "\n",
    "query_template = '''INSERT IGNORE INTO {db}.{table}(instance,\n",
    "                                                    pc, \n",
    "                                                    invoice_date,\n",
    "                                                    opponent,\n",
    "                                                    event_date,\n",
    "                                                    section,\n",
    "                                                    row,\n",
    "                                                    begseat,\n",
    "                                                    endseat,\n",
    "                                                    quantity,\n",
    "                                                    cost,\n",
    "                                                    revenue,\n",
    "                                                    profit,\n",
    "                                                    margin,\n",
    "                                                    channel,\n",
    "                                                    vendor,\n",
    "                                                    ticket_type,\n",
    "                                                    sold) \n",
    "                                                    VALUES (%s, %s, %s, %s, %s, %s, %s, %s,\n",
    "                                                    %s, %s, %s, %s, %s, %s, %s, %s, %s, %s)'''.format(db=db_name, table=table_name)\n",
    "\n",
    "cursor = con.cursor()\n",
    "\n",
    "for i in range(len(nets_data)):\n",
    "    instance = nets_data['instance'].loc[i]\n",
    "    pc = nets_data['PC'].loc[i]\n",
    "    invoice_date = nets_data['Invoice Date'].loc[i]\n",
    "    opponent = nets_data['Opponent'].loc[i]\n",
    "    event_date = nets_data['EventDate'].loc[i]\n",
    "    section = nets_data['Section'].loc[i]\n",
    "    row = nets_data['Row'].loc[i]\n",
    "    begseat = nets_data['BegSeat'].loc[i]\n",
    "    endseat = nets_data['EndSeat'].loc[i]\n",
    "    quantity = nets_data['Qty'].loc[i]\n",
    "    cost = nets_data['Cost'].loc[i]\n",
    "    revenue = nets_data['Revenue'].loc[i]\n",
    "    profit = nets_data['Profit'].loc[i]\n",
    "    margin = nets_data['Margin'].loc[i]\n",
    "    channel = nets_data['Channel'].loc[i]\n",
    "    vendor = nets_data['Vendor'].loc[i]\n",
    "    ticket_type = nets_data['Ticket Type'].loc[i]\n",
    "    sold = nets_data['Sale (0Y/1N)'].loc[i]\n",
    "    \n",
    "    query_parameters = (instance, pc, invoice_date, opponent, event_date, section, row, begseat, endseat, quantity,\n",
    "                   cost, revenue, profit, margin, channel, vendor, ticket_type, sold)\n",
    "\n",
    "    cursor.execute(query_template, query_parameters)\n",
    "\n",
    "con.commit()\n",
    "cursor.close()"
   ]
  },
  {
   "cell_type": "code",
   "execution_count": 65,
   "metadata": {},
   "outputs": [],
   "source": [
    "#Creating description table and fetch data \n",
    "cursor = con.cursor()\n",
    "table_name = 'location_key'\n",
    "\n",
    "query_template = '''INSERT IGNORE INTO {db}.{table}(concat,\n",
    "                                                    parent_pc, \n",
    "                                                    aa,\n",
    "                                                    tier,\n",
    "                                                    location,\n",
    "                                                    detail,\n",
    "                                                    full_loc) \n",
    "                                                    VALUES (%s, %s, %s, %s, %s, %s, %s)'''.format(db=db_name, table=table_name)\n",
    "\n",
    "cursor = con.cursor()\n",
    "\n",
    "for i in range(len(location_data)):\n",
    "    concat = location_data['Concat'].loc[i]\n",
    "    parent_pc = location_data['Parent PC'].loc[i]\n",
    "    aa = location_data['AA'].loc[i]\n",
    "    tier = location_data['Tier'].loc[i]\n",
    "    location = location_data['Location'].loc[i]\n",
    "    detail = location_data['Detail'].loc[i]\n",
    "    full_loc = location_data['Full Loc'].loc[i]\n",
    "  \n",
    "    query_parameters = (concat, parent_pc, aa, tier, location, detail, full_loc)\n",
    "\n",
    "    cursor.execute(query_template, query_parameters)\n",
    "\n",
    "con.commit()\n",
    "cursor.close()"
   ]
  }
 ],
 "metadata": {
  "kernelspec": {
   "display_name": "Python [default]",
   "language": "python",
   "name": "python3"
  },
  "language_info": {
   "codemirror_mode": {
    "name": "ipython",
    "version": 3
   },
   "file_extension": ".py",
   "mimetype": "text/x-python",
   "name": "python",
   "nbconvert_exporter": "python",
   "pygments_lexer": "ipython3",
   "version": "3.5.2"
  }
 },
 "nbformat": 4,
 "nbformat_minor": 2
}
