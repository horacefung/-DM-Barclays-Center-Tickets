{
 "cells": [
  {
   "cell_type": "markdown",
   "metadata": {},
   "source": [
    "# Scrapping BasketballReference.com"
   ]
  },
  {
   "cell_type": "code",
   "execution_count": 1,
   "metadata": {},
   "outputs": [],
   "source": [
    "import MySQLdb as mdb\n",
    "from bs4 import BeautifulSoup \n",
    "import requests\n",
    "import re\n",
    "import pandas as pd"
   ]
  },
  {
   "cell_type": "code",
   "execution_count": 2,
   "metadata": {},
   "outputs": [],
   "source": [
    "# Season Standings \n",
    "url_2017standings = \"https://www.basketball-reference.com/leagues/NBA_2017.html\""
   ]
  },
  {
   "cell_type": "code",
   "execution_count": 3,
   "metadata": {},
   "outputs": [],
   "source": [
    "url_2017standings = \"https://www.basketball-reference.com/leagues/NBA_2017.html\"\n",
    "standings2017 = requests.get(url_2017standings)\n",
    "standings2017_soup = BeautifulSoup(standings2017.text, 'html.parser')"
   ]
  },
  {
   "cell_type": "markdown",
   "metadata": {},
   "source": [
    "## Functions to get regular season conference standings"
   ]
  },
  {
   "cell_type": "code",
   "execution_count": 4,
   "metadata": {},
   "outputs": [],
   "source": [
    "#Function to scrap conference tables for each year\n",
    "#Remember to do 2 years back, our data is 2016\n",
    "def conference_standing(url, number_of_teams, year):\n",
    "    a = requests.get(url)\n",
    "    a_soup = BeautifulSoup(a.text, 'html.parser')\n",
    "    teams = a_soup.findAll('div', class_= 'section_content')[0].findAll('tr', class_='full_table')\n",
    "    output_list = []\n",
    "    for i in range(number_of_teams):\n",
    "        year = year\n",
    "        team_name = teams[i].find('a').text\n",
    "        seed = str(teams[i].find('span', class_= 'seed').contents[0])\n",
    "        seed = re.sub('[()\\\\xa0]',\"\",seed)\n",
    "        wins = teams[i].findAll('td')[0].text\n",
    "        losses = teams[i].findAll('td')[1].text\n",
    "        winloss = teams[i].findAll('td')[2].text\n",
    "        ppg = teams[i].findAll('td')[4].text\n",
    "        opp_ppg = teams[i].findAll('td')[5].text\n",
    "        east = 'East' #simple problem, not going to scrape for conference, just use if controls \n",
    "        west = 'West'\n",
    "        if i<15:\n",
    "            empty_list = [year, team_name, seed, wins, losses, winloss, ppg, opp_ppg, east]\n",
    "        else:\n",
    "            empty_list = [year, team_name, seed, wins, losses, winloss, ppg, opp_ppg, west]\n",
    "        output_list.append(empty_list)\n",
    "    return output_list"
   ]
  },
  {
   "cell_type": "markdown",
   "metadata": {},
   "source": [
    "## Functions to get standing before match + starting fives"
   ]
  },
  {
   "cell_type": "code",
   "execution_count": 5,
   "metadata": {},
   "outputs": [],
   "source": [
    "#SQL query to get dates\n",
    "con = mdb.connect(host = 'localhost', \n",
    "                  user = 'root',\n",
    "                  database = 'Project',\n",
    "                  passwd = '<password>', \n",
    "                  charset='utf8', use_unicode=True)\n",
    "    \n",
    "query_template = '''select count(*), event_date\n",
    "                    from data_mining.nets_tickets\n",
    "                    group by event_date\n",
    "                    '''\n",
    "cur = con.cursor(mdb.cursors.DictCursor)\n",
    "cur.execute(query_template, )\n",
    "data = cur.fetchall()\n",
    "cur.close()\n",
    "con.close()\n",
    "nets_data = pd.DataFrame(list(data))"
   ]
  },
  {
   "cell_type": "code",
   "execution_count": 6,
   "metadata": {},
   "outputs": [],
   "source": [
    "def reformat_date(event_date_element):\n",
    "    date1 = str(event_date_element)\n",
    "    date1 = date1.replace(' 00:00:00', '').replace('-', '')\n",
    "    date1 = date1 + '0'\n",
    "    return date1"
   ]
  },
  {
   "cell_type": "code",
   "execution_count": 7,
   "metadata": {},
   "outputs": [],
   "source": [
    "def home_game_looper(event_date_element):\n",
    "    \n",
    "#''' This function uses reformat_date(). Plugs the reformat_date and spits out url''' \n",
    "\n",
    "    date = reformat_date(event_date_element)\n",
    "    url = 'https://www.basketball-reference.com/boxscores/' + date +'BRK.html'\n",
    "    return url"
   ]
  },
  {
   "cell_type": "code",
   "execution_count": 8,
   "metadata": {},
   "outputs": [],
   "source": [
    "def current_win_loss(layer1, i):\n",
    "    \n",
    "#''' The current_win_loss function inputs layer2, which is the text within table-container and caption, and i,\n",
    "#which sets to i=0 for wins and i=1 for losses. j=0 for away, j=2 for Nets. It outputs a string'''\n",
    "    current_standings = re.search('\\(.*?\\)', layer1).group(0)\n",
    "    current_standings = re.sub('[\\(\\)]', '', current_standings)\n",
    "    current_standings = current_standings.split('-')\n",
    "    current_standings = [int(i) for i in current_standings]\n",
    "    return current_standings[i]"
   ]
  },
  {
   "cell_type": "code",
   "execution_count": 9,
   "metadata": {},
   "outputs": [],
   "source": [
    "def get_startingfive(layer1, i):\n",
    "    empty_five = []\n",
    "    for a in range(5):\n",
    "        if i == 1:\n",
    "            return \"Please choose 2 for Nets\"\n",
    "        else:\n",
    "            empty_five.append(layer1[i].findAll('th', class_='left')[a].text)\n",
    "    return empty_five"
   ]
  },
  {
   "cell_type": "code",
   "execution_count": 10,
   "metadata": {},
   "outputs": [],
   "source": [
    "def teams_info(url):\n",
    "    \n",
    "#''' The team_info function uses the current_win_loss function. It takes layer 1, text within table-container,\n",
    "# and retrieves the wins, losses, team name and starting fivedepending on i= 0 or 1. i=0 for opponent, \n",
    "# i=1 for the Nets.  '''\n",
    "\n",
    "    a = requests.get(url)\n",
    "    a_soup = BeautifulSoup(a.text, 'html.parser')\n",
    "    layer1 = a_soup.findAll('div', class_= 'overthrow table_container')\n",
    "    layer_opp = layer1[0].find('caption').text\n",
    "    layer_nets = layer1[2].find('caption').text\n",
    "    opp_wins = current_win_loss(layer_opp, 0) #Set to 0 for win\n",
    "    opp_losses = current_win_loss(layer_opp, 1) #Set to 1 for win\n",
    "    nets_wins = current_win_loss(layer_nets, 0)\n",
    "    nets_losses = current_win_loss(layer_nets, 1)\n",
    "    opp_name = re.sub('\\([^)]*\\)', \"\", layer_opp) #remove everything inside bracket\n",
    "    opp_name = opp_name.replace(\"  Table\", \"\")\n",
    "    nets_five = get_startingfive(layer1, 2)\n",
    "    opp_five = get_startingfive(layer1, 0)\n",
    "    output_list = [opp_name, opp_wins, opp_losses, nets_wins, nets_losses]\n",
    "    output_list = output_list + nets_five #I dont want a list in a list, problematic when encoding to dummy later\n",
    "    output_list = output_list + opp_five\n",
    "    return output_list"
   ]
  },
  {
   "cell_type": "code",
   "execution_count": 11,
   "metadata": {},
   "outputs": [],
   "source": [
    "a = requests.get(\"https://www.basketball-reference.com/boxscores/201703280BRK.html\")\n",
    "a_soup = BeautifulSoup(a.text, 'html.parser')\n",
    "layer1 = a_soup.findAll('div', class_= 'overthrow table_container')\n",
    "layer_opp = layer1[0].find('caption').text"
   ]
  },
  {
   "cell_type": "markdown",
   "metadata": {},
   "source": [
    "## Function to get a list of all-stars"
   ]
  },
  {
   "cell_type": "code",
   "execution_count": 12,
   "metadata": {},
   "outputs": [],
   "source": [
    "def find_allstars(url, num_of_players_per_team, year):\n",
    "    empty_list = []\n",
    "    a = requests.get(url)\n",
    "    a_soup = BeautifulSoup(a.text, 'html.parser')\n",
    "    allstar = a_soup.findAll('div', class_ = 'overthrow table_container')\n",
    "    for i in range(2, 7): #always going to be a starting 5\n",
    "        west = allstar[1].findAll('th', class_='left')[i].text\n",
    "        east = allstar[2].findAll('th', class_='left')[i].text\n",
    "        empty_list.append([year, west])\n",
    "        empty_list.append([year, east])\n",
    "    for j in range(9, num_of_players_per_team + 4): #Extra spaces and labels in between, skip them\n",
    "        west = allstar[1].findAll('th', class_='left')[j].text\n",
    "        east = allstar[2].findAll('th', class_='left')[j].text\n",
    "        empty_list.append([year, west])\n",
    "        empty_list.append([year, east])\n",
    "    return empty_list"
   ]
  },
  {
   "cell_type": "markdown",
   "metadata": {},
   "source": [
    "## Function to get playoff teams"
   ]
  },
  {
   "cell_type": "code",
   "execution_count": 13,
   "metadata": {},
   "outputs": [],
   "source": [
    "def playoff_teams(url, year):\n",
    "    empty_list = []\n",
    "    url = requests.get(url)\n",
    "    url_soup = BeautifulSoup(url.text, 'html.parser')\n",
    "    playoffs = url_soup.findAll('div', class_='overthrow table_container')\n",
    "    champion = url_soup.findAll('div')[0].findAll('p')[2].text.replace('League Champion: ', '')\n",
    "    num_rounds = len(playoffs[0].findAll('span', class_='tooltip opener'))\n",
    "    empty_list.append([year, 'Champion', champion])\n",
    "    for i in range(num_rounds):\n",
    "        year = year\n",
    "        rounds = playoffs[0].findAll('span', class_= 'tooltip opener')[i].text #clever trick: 0,1,2\n",
    "        team1 = playoffs[0].select('a[href*=teams]')[2*i].text #0, 2, 4\n",
    "        team2 = playoffs[0].select('a[href*=teams]')[2*i+1].text #,1, 3, 5\n",
    "        team1_list = [year, rounds, team1]\n",
    "        team2_list = [year, rounds, team2]\n",
    "        empty_list.append(team1_list)\n",
    "        empty_list.append(team2_list)\n",
    "    return empty_list"
   ]
  },
  {
   "cell_type": "markdown",
   "metadata": {},
   "source": [
    "## Actually Scraping"
   ]
  },
  {
   "cell_type": "markdown",
   "metadata": {},
   "source": [
    "The functions we will use are **1.** `conference_standing(url, number_of_teams)` **2.** `teams_info(url, i)` **3.** `find_allstars(url, num_of_players_per_team)` **4.** `playoff_teams(url)` and loop **5.** `home_game_looper(event_date_list)`"
   ]
  },
  {
   "cell_type": "code",
   "execution_count": 14,
   "metadata": {},
   "outputs": [],
   "source": [
    "#Conference standing data\n",
    "years = ['2017', '2016', '2015', '2014']\n",
    "conference_data = []\n",
    "\n",
    "for i in years:\n",
    "    url = 'https://www.basketball-reference.com/leagues/NBA_' + i + '.html'\n",
    "    conference_data = conference_data + conference_standing(url, 30, i)"
   ]
  },
  {
   "cell_type": "code",
   "execution_count": 15,
   "metadata": {},
   "outputs": [
    {
     "data": {
      "text/plain": [
       "['2017', 'Boston Celtics', '1', '53', '29', '.646', '108.0', '105.4', 'East']"
      ]
     },
     "execution_count": 15,
     "metadata": {},
     "output_type": "execute_result"
    }
   ],
   "source": [
    "conference_data[0] # looks good"
   ]
  },
  {
   "cell_type": "code",
   "execution_count": 16,
   "metadata": {},
   "outputs": [
    {
     "data": {
      "text/plain": [
       "120"
      ]
     },
     "execution_count": 16,
     "metadata": {},
     "output_type": "execute_result"
    }
   ],
   "source": [
    "len(conference_data)"
   ]
  },
  {
   "cell_type": "code",
   "execution_count": 17,
   "metadata": {},
   "outputs": [],
   "source": [
    "allstars_data = []\n",
    "\n",
    "for i in years:\n",
    "    url = 'https://www.basketball-reference.com/allstar/NBA_' + i + '.html'\n",
    "    allstars_data.append(find_allstars(url, 12, i))"
   ]
  },
  {
   "cell_type": "code",
   "execution_count": 18,
   "metadata": {},
   "outputs": [
    {
     "data": {
      "text/plain": [
       "['2017', 'DeMar DeRozan']"
      ]
     },
     "execution_count": 18,
     "metadata": {},
     "output_type": "execute_result"
    }
   ],
   "source": [
    "allstars_data[0][1]"
   ]
  },
  {
   "cell_type": "code",
   "execution_count": 19,
   "metadata": {},
   "outputs": [],
   "source": [
    "#Playoff Appearances + Performance\n",
    "playoff_data = []\n",
    "\n",
    "for i in years:\n",
    "    url = 'https://www.basketball-reference.com/playoffs/NBA_' + i + '.html'\n",
    "    playoff_data = playoff_data + playoff_teams(url, i)"
   ]
  },
  {
   "cell_type": "code",
   "execution_count": 20,
   "metadata": {},
   "outputs": [
    {
     "data": {
      "text/plain": [
       "['2016', 'Eastern Conference First Round', 'Miami Heat']"
      ]
     },
     "execution_count": 20,
     "metadata": {},
     "output_type": "execute_result"
    }
   ],
   "source": [
    "playoff_data[50] #looks good"
   ]
  },
  {
   "cell_type": "markdown",
   "metadata": {},
   "source": [
    "## Stats coming into the match will be different, since its indexed by each game not year"
   ]
  },
  {
   "cell_type": "code",
   "execution_count": 21,
   "metadata": {},
   "outputs": [],
   "source": [
    "def scrap_each_game(event_date):\n",
    "    each_game = []\n",
    "    for i in range(3,len(event_date)): #first 3 days have no data\n",
    "        url = home_game_looper(event_date[i])\n",
    "        each_game.append([event_date[i],teams_info(url)])\n",
    "    return each_game"
   ]
  },
  {
   "cell_type": "code",
   "execution_count": 22,
   "metadata": {},
   "outputs": [],
   "source": [
    "each_game = scrap_each_game(nets_data['event_date'])"
   ]
  },
  {
   "cell_type": "code",
   "execution_count": 23,
   "metadata": {},
   "outputs": [
    {
     "data": {
      "text/plain": [
       "[Timestamp('2016-10-28 00:00:00'),\n",
       " ['Indiana Pacers',\n",
       "  1,\n",
       "  1,\n",
       "  1,\n",
       "  1,\n",
       "  'Jeremy Lin',\n",
       "  'Bojan Bogdanovic',\n",
       "  'Trevor Booker',\n",
       "  'Brook Lopez',\n",
       "  'Rondae Hollis-Jefferson',\n",
       "  'Paul George',\n",
       "  'Thaddeus Young',\n",
       "  'Monta Ellis',\n",
       "  'Myles Turner',\n",
       "  'Jeff Teague']]"
      ]
     },
     "execution_count": 23,
     "metadata": {},
     "output_type": "execute_result"
    }
   ],
   "source": [
    "each_game[0] #looks good"
   ]
  },
  {
   "cell_type": "markdown",
   "metadata": {},
   "source": [
    "## Uploading to SQL"
   ]
  },
  {
   "cell_type": "markdown",
   "metadata": {},
   "source": [
    "## 1. Conference standings"
   ]
  },
  {
   "cell_type": "code",
   "execution_count": 71,
   "metadata": {},
   "outputs": [],
   "source": [
    "#Connecting to MySQL database\n",
    "con = mdb.connect(host = 'localhost', \n",
    "                  user = 'root',\n",
    "                  passwd = '<password>', \n",
    "                  charset='utf8', use_unicode=True);"
   ]
  },
  {
   "cell_type": "code",
   "execution_count": 36,
   "metadata": {},
   "outputs": [
    {
     "name": "stderr",
     "output_type": "stream",
     "text": [
      "/usr/local/lib/python3.5/dist-packages/ipykernel_launcher.py:7: Warning: (1007, \"Can't create database 'data_mining'; database exists\")\n",
      "  import sys\n"
     ]
    }
   ],
   "source": [
    "# Run a query to create a database that will hold the data\n",
    "db_name = 'data_mining'\n",
    "create_db_query = \"CREATE DATABASE IF NOT EXISTS {db} DEFAULT CHARACTER SET 'utf8'\".format(db=db_name)\n",
    "\n",
    "# Create a database\n",
    "cursor = con.cursor()\n",
    "cursor.execute(create_db_query)\n",
    "cursor.close()"
   ]
  },
  {
   "cell_type": "code",
   "execution_count": 25,
   "metadata": {},
   "outputs": [
    {
     "name": "stderr",
     "output_type": "stream",
     "text": [
      "/usr/local/lib/python3.5/dist-packages/ipykernel_launcher.py:19: Warning: (1050, \"Table 'conference_data' already exists\")\n"
     ]
    }
   ],
   "source": [
    "#Create a table for Trending_Descriptions (static data)\n",
    "cursor = con.cursor()\n",
    "table_name = 'conference_data'\n",
    "# Create a table\n",
    "# The {db} and {table} are placeholders for the parameters in the format(....) statement\n",
    "create_table_query = '''CREATE TABLE IF NOT EXISTS {db}.{table} \n",
    "                                (year int,\n",
    "                                team varchar(250), \n",
    "                                seed int,\n",
    "                                wins int,\n",
    "                                losses int,\n",
    "                                winloss decimal(5,3),\n",
    "                                ppg decimal(5,1),\n",
    "                                oppg decimal(5,1),\n",
    "                                conference varchar(250),\n",
    "                                PRIMARY KEY(year, team)\n",
    "                                )'''.format(db=db_name, table=table_name)\n",
    "\n",
    "cursor.execute(create_table_query)\n",
    "cursor.close()"
   ]
  },
  {
   "cell_type": "code",
   "execution_count": 30,
   "metadata": {},
   "outputs": [],
   "source": [
    "#Creating description table and fetch data \n",
    "cursor = con.cursor()\n",
    "table_name = 'conference_data'\n",
    "\n",
    "query_template = '''INSERT IGNORE INTO {db}.{table}(year,\n",
    "                                                    team, \n",
    "                                                    seed,\n",
    "                                                    wins,\n",
    "                                                    losses,\n",
    "                                                    winloss,\n",
    "                                                    ppg,\n",
    "                                                    oppg,\n",
    "                                                    conference) \n",
    "                                                    VALUES (%s, %s, %s, %s, %s, \n",
    "                                                    %s, %s, %s, %s)'''.format(db=db_name, table=table_name)\n",
    "\n",
    "cursor = con.cursor()\n",
    "\n",
    "for i in range(len(conference_data)):\n",
    "    year = int(conference_data[i][0])\n",
    "    team = conference_data[i][1]\n",
    "    seed = int(conference_data[i][2])\n",
    "    wins = int(conference_data[i][3])\n",
    "    losses = int(conference_data[i][4])\n",
    "    winloss = float(conference_data[i][5])\n",
    "    ppg = float(conference_data[i][6])\n",
    "    oppg = float(conference_data[i][7])\n",
    "    conference = conference_data[i][8]\n",
    "    \n",
    "    query_parameters = (year, team, seed, wins, losses, winloss, ppg, oppg, conference)\n",
    "    cursor.execute(query_template, query_parameters)\n",
    "\n",
    "con.commit()\n",
    "cursor.close()"
   ]
  },
  {
   "cell_type": "markdown",
   "metadata": {},
   "source": [
    "## 2. Playoff Teams"
   ]
  },
  {
   "cell_type": "code",
   "execution_count": 66,
   "metadata": {},
   "outputs": [],
   "source": [
    "#Connecting to MySQL database\n",
    "con = mdb.connect(host = 'localhost', \n",
    "                  user = 'root',\n",
    "                  passwd = '<password>', \n",
    "                  charset='utf8', use_unicode=True);"
   ]
  },
  {
   "cell_type": "code",
   "execution_count": 72,
   "metadata": {},
   "outputs": [],
   "source": [
    "#Create a table for Trending_Descriptions (static data)\n",
    "cursor = con.cursor()\n",
    "table_name = 'playoff_data'\n",
    "# Create a table\n",
    "# The {db} and {table} are placeholders for the parameters in the format(....) statement\n",
    "create_table_query = '''CREATE TABLE IF NOT EXISTS {db}.{table} \n",
    "                                (year int,\n",
    "                                rounds varchar(250), \n",
    "                                team varchar(250),\n",
    "                                PRIMARY KEY(year, team, rounds)\n",
    "                                )'''.format(db=db_name, table=table_name)\n",
    "\n",
    "cursor.execute(create_table_query)\n",
    "cursor.close()"
   ]
  },
  {
   "cell_type": "code",
   "execution_count": 73,
   "metadata": {},
   "outputs": [],
   "source": [
    "#Creating description table and fetch data \n",
    "cursor = con.cursor()\n",
    "table_name = 'playoff_data'\n",
    "\n",
    "query_template = '''INSERT IGNORE INTO {db}.{table}(year,\n",
    "                                                    rounds, \n",
    "                                                    team) \n",
    "                                                    VALUES (%s, %s, %s)'''.format(db=db_name, table=table_name)\n",
    "\n",
    "cursor = con.cursor()\n",
    "\n",
    "for i in range(len(playoff_data)):\n",
    "    year = int(playoff_data[i][0])\n",
    "    rounds = playoff_data[i][1]\n",
    "    team = playoff_data[i][2]\n",
    "    \n",
    "    query_parameters = (year, rounds, team)\n",
    "    cursor.execute(query_template, query_parameters)\n",
    "\n",
    "con.commit()\n",
    "cursor.close()"
   ]
  },
  {
   "cell_type": "markdown",
   "metadata": {},
   "source": [
    "## 3. Allstars"
   ]
  },
  {
   "cell_type": "code",
   "execution_count": 73,
   "metadata": {},
   "outputs": [],
   "source": [
    "#Connecting to MySQL database\n",
    "con = mdb.connect(host = 'localhost', \n",
    "                  user = 'root',\n",
    "                  passwd = '<password>', \n",
    "                  charset='utf8', use_unicode=True);"
   ]
  },
  {
   "cell_type": "code",
   "execution_count": 74,
   "metadata": {},
   "outputs": [
    {
     "name": "stderr",
     "output_type": "stream",
     "text": [
      "/usr/local/lib/python3.5/dist-packages/ipykernel_launcher.py:12: Warning: (1050, \"Table 'allstars_data' already exists\")\n",
      "  if sys.path[0] == '':\n"
     ]
    }
   ],
   "source": [
    "#Create a table for Trending_Descriptions (static data)\n",
    "cursor = con.cursor()\n",
    "table_name = 'allstars_data'\n",
    "# Create a table\n",
    "# The {db} and {table} are placeholders for the parameters in the format(....) statement\n",
    "create_table_query = '''CREATE TABLE IF NOT EXISTS {db}.{table} \n",
    "                                (year int,\n",
    "                                player varchar(250), \n",
    "                                PRIMARY KEY(year, player)\n",
    "                                )'''.format(db=db_name, table=table_name)\n",
    "\n",
    "cursor.execute(create_table_query)\n",
    "cursor.close()"
   ]
  },
  {
   "cell_type": "code",
   "execution_count": 75,
   "metadata": {},
   "outputs": [
    {
     "name": "stderr",
     "output_type": "stream",
     "text": [
      "/usr/local/lib/python3.5/dist-packages/ipykernel_launcher.py:17: Warning: (1062, \"Duplicate entry '2017-Anthony Davis' for key 'PRIMARY'\")\n",
      "/usr/local/lib/python3.5/dist-packages/ipykernel_launcher.py:17: Warning: (1062, \"Duplicate entry '2017-DeMar DeRozan' for key 'PRIMARY'\")\n",
      "/usr/local/lib/python3.5/dist-packages/ipykernel_launcher.py:17: Warning: (1062, \"Duplicate entry '2017-James Harden' for key 'PRIMARY'\")\n",
      "/usr/local/lib/python3.5/dist-packages/ipykernel_launcher.py:17: Warning: (1062, \"Duplicate entry '2017-Giannis Antetokounmpo' for key 'PRIMARY'\")\n",
      "/usr/local/lib/python3.5/dist-packages/ipykernel_launcher.py:17: Warning: (1062, \"Duplicate entry '2017-Stephen Curry' for key 'PRIMARY'\")\n",
      "/usr/local/lib/python3.5/dist-packages/ipykernel_launcher.py:17: Warning: (1062, \"Duplicate entry '2017-Kyrie Irving' for key 'PRIMARY'\")\n",
      "/usr/local/lib/python3.5/dist-packages/ipykernel_launcher.py:17: Warning: (1062, \"Duplicate entry '2017-Kevin Durant' for key 'PRIMARY'\")\n",
      "/usr/local/lib/python3.5/dist-packages/ipykernel_launcher.py:17: Warning: (1062, \"Duplicate entry '2017-LeBron James' for key 'PRIMARY'\")\n",
      "/usr/local/lib/python3.5/dist-packages/ipykernel_launcher.py:17: Warning: (1062, \"Duplicate entry '2017-Kawhi Leonard' for key 'PRIMARY'\")\n",
      "/usr/local/lib/python3.5/dist-packages/ipykernel_launcher.py:17: Warning: (1062, \"Duplicate entry '2017-Jimmy Butler' for key 'PRIMARY'\")\n",
      "/usr/local/lib/python3.5/dist-packages/ipykernel_launcher.py:17: Warning: (1062, \"Duplicate entry '2017-Marc Gasol' for key 'PRIMARY'\")\n",
      "/usr/local/lib/python3.5/dist-packages/ipykernel_launcher.py:17: Warning: (1062, \"Duplicate entry '2017-Paul George' for key 'PRIMARY'\")\n",
      "/usr/local/lib/python3.5/dist-packages/ipykernel_launcher.py:17: Warning: (1062, \"Duplicate entry '2017-Russell Westbrook' for key 'PRIMARY'\")\n",
      "/usr/local/lib/python3.5/dist-packages/ipykernel_launcher.py:17: Warning: (1062, \"Duplicate entry '2017-John Wall' for key 'PRIMARY'\")\n",
      "/usr/local/lib/python3.5/dist-packages/ipykernel_launcher.py:17: Warning: (1062, \"Duplicate entry '2017-Klay Thompson' for key 'PRIMARY'\")\n",
      "/usr/local/lib/python3.5/dist-packages/ipykernel_launcher.py:17: Warning: (1062, \"Duplicate entry '2017-Kemba Walker' for key 'PRIMARY'\")\n",
      "/usr/local/lib/python3.5/dist-packages/ipykernel_launcher.py:17: Warning: (1062, \"Duplicate entry '2017-Gordon Hayward' for key 'PRIMARY'\")\n",
      "/usr/local/lib/python3.5/dist-packages/ipykernel_launcher.py:17: Warning: (1062, \"Duplicate entry '2017-Carmelo Anthony' for key 'PRIMARY'\")\n",
      "/usr/local/lib/python3.5/dist-packages/ipykernel_launcher.py:17: Warning: (1062, \"Duplicate entry '2017-Draymond Green' for key 'PRIMARY'\")\n",
      "/usr/local/lib/python3.5/dist-packages/ipykernel_launcher.py:17: Warning: (1062, \"Duplicate entry '2017-Isaiah Thomas' for key 'PRIMARY'\")\n",
      "/usr/local/lib/python3.5/dist-packages/ipykernel_launcher.py:17: Warning: (1062, \"Duplicate entry '2017-DeAndre Jordan' for key 'PRIMARY'\")\n",
      "/usr/local/lib/python3.5/dist-packages/ipykernel_launcher.py:17: Warning: (1062, \"Duplicate entry '2017-Kyle Lowry' for key 'PRIMARY'\")\n",
      "/usr/local/lib/python3.5/dist-packages/ipykernel_launcher.py:17: Warning: (1062, \"Duplicate entry '2017-DeMarcus Cousins' for key 'PRIMARY'\")\n",
      "/usr/local/lib/python3.5/dist-packages/ipykernel_launcher.py:17: Warning: (1062, \"Duplicate entry '2017-Paul Millsap' for key 'PRIMARY'\")\n",
      "/usr/local/lib/python3.5/dist-packages/ipykernel_launcher.py:17: Warning: (1062, \"Duplicate entry '2016-Stephen Curry' for key 'PRIMARY'\")\n",
      "/usr/local/lib/python3.5/dist-packages/ipykernel_launcher.py:17: Warning: (1062, \"Duplicate entry '2016-Kyle Lowry' for key 'PRIMARY'\")\n",
      "/usr/local/lib/python3.5/dist-packages/ipykernel_launcher.py:17: Warning: (1062, \"Duplicate entry '2016-Kobe Bryant' for key 'PRIMARY'\")\n",
      "/usr/local/lib/python3.5/dist-packages/ipykernel_launcher.py:17: Warning: (1062, \"Duplicate entry '2016-Paul George' for key 'PRIMARY'\")\n",
      "/usr/local/lib/python3.5/dist-packages/ipykernel_launcher.py:17: Warning: (1062, \"Duplicate entry '2016-Kawhi Leonard' for key 'PRIMARY'\")\n",
      "/usr/local/lib/python3.5/dist-packages/ipykernel_launcher.py:17: Warning: (1062, \"Duplicate entry '2016-Carmelo Anthony' for key 'PRIMARY'\")\n",
      "/usr/local/lib/python3.5/dist-packages/ipykernel_launcher.py:17: Warning: (1062, \"Duplicate entry '2016-Kevin Durant' for key 'PRIMARY'\")\n",
      "/usr/local/lib/python3.5/dist-packages/ipykernel_launcher.py:17: Warning: (1062, \"Duplicate entry '2016-Dwyane Wade' for key 'PRIMARY'\")\n",
      "/usr/local/lib/python3.5/dist-packages/ipykernel_launcher.py:17: Warning: (1062, \"Duplicate entry '2016-Russell Westbrook' for key 'PRIMARY'\")\n",
      "/usr/local/lib/python3.5/dist-packages/ipykernel_launcher.py:17: Warning: (1062, \"Duplicate entry '2016-LeBron James' for key 'PRIMARY'\")\n",
      "/usr/local/lib/python3.5/dist-packages/ipykernel_launcher.py:17: Warning: (1062, \"Duplicate entry '2016-James Harden' for key 'PRIMARY'\")\n",
      "/usr/local/lib/python3.5/dist-packages/ipykernel_launcher.py:17: Warning: (1062, \"Duplicate entry '2016-John Wall' for key 'PRIMARY'\")\n",
      "/usr/local/lib/python3.5/dist-packages/ipykernel_launcher.py:17: Warning: (1062, \"Duplicate entry '2016-Klay Thompson' for key 'PRIMARY'\")\n",
      "/usr/local/lib/python3.5/dist-packages/ipykernel_launcher.py:17: Warning: (1062, \"Duplicate entry '2016-Paul Millsap' for key 'PRIMARY'\")\n",
      "/usr/local/lib/python3.5/dist-packages/ipykernel_launcher.py:17: Warning: (1062, \"Duplicate entry '2016-Chris Paul' for key 'PRIMARY'\")\n",
      "/usr/local/lib/python3.5/dist-packages/ipykernel_launcher.py:17: Warning: (1062, \"Duplicate entry '2016-Isaiah Thomas' for key 'PRIMARY'\")\n",
      "/usr/local/lib/python3.5/dist-packages/ipykernel_launcher.py:17: Warning: (1062, \"Duplicate entry '2016-Anthony Davis' for key 'PRIMARY'\")\n",
      "/usr/local/lib/python3.5/dist-packages/ipykernel_launcher.py:17: Warning: (1062, \"Duplicate entry '2016-DeMar DeRozan' for key 'PRIMARY'\")\n",
      "/usr/local/lib/python3.5/dist-packages/ipykernel_launcher.py:17: Warning: (1062, \"Duplicate entry '2016-LaMarcus Aldridge' for key 'PRIMARY'\")\n",
      "/usr/local/lib/python3.5/dist-packages/ipykernel_launcher.py:17: Warning: (1062, \"Duplicate entry '2016-Andre Drummond' for key 'PRIMARY'\")\n",
      "/usr/local/lib/python3.5/dist-packages/ipykernel_launcher.py:17: Warning: (1062, \"Duplicate entry '2016-Draymond Green' for key 'PRIMARY'\")\n",
      "/usr/local/lib/python3.5/dist-packages/ipykernel_launcher.py:17: Warning: (1062, \"Duplicate entry '2016-Pau Gasol' for key 'PRIMARY'\")\n",
      "/usr/local/lib/python3.5/dist-packages/ipykernel_launcher.py:17: Warning: (1062, \"Duplicate entry '2016-DeMarcus Cousins' for key 'PRIMARY'\")\n",
      "/usr/local/lib/python3.5/dist-packages/ipykernel_launcher.py:17: Warning: (1062, \"Duplicate entry '2016-Al Horford' for key 'PRIMARY'\")\n",
      "/usr/local/lib/python3.5/dist-packages/ipykernel_launcher.py:17: Warning: (1062, \"Duplicate entry '2015-James Harden' for key 'PRIMARY'\")\n",
      "/usr/local/lib/python3.5/dist-packages/ipykernel_launcher.py:17: Warning: (1062, \"Duplicate entry '2015-LeBron James' for key 'PRIMARY'\")\n",
      "/usr/local/lib/python3.5/dist-packages/ipykernel_launcher.py:17: Warning: (1062, \"Duplicate entry '2015-Stephen Curry' for key 'PRIMARY'\")\n",
      "/usr/local/lib/python3.5/dist-packages/ipykernel_launcher.py:17: Warning: (1062, \"Duplicate entry '2015-Carmelo Anthony' for key 'PRIMARY'\")\n",
      "/usr/local/lib/python3.5/dist-packages/ipykernel_launcher.py:17: Warning: (1062, \"Duplicate entry '2015-Marc Gasol' for key 'PRIMARY'\")\n",
      "/usr/local/lib/python3.5/dist-packages/ipykernel_launcher.py:17: Warning: (1062, \"Duplicate entry '2015-John Wall' for key 'PRIMARY'\")\n",
      "/usr/local/lib/python3.5/dist-packages/ipykernel_launcher.py:17: Warning: (1062, \"Duplicate entry '2015-Klay Thompson' for key 'PRIMARY'\")\n",
      "/usr/local/lib/python3.5/dist-packages/ipykernel_launcher.py:17: Warning: (1062, \"Duplicate entry '2015-Pau Gasol' for key 'PRIMARY'\")\n",
      "/usr/local/lib/python3.5/dist-packages/ipykernel_launcher.py:17: Warning: (1062, \"Duplicate entry '2015-LaMarcus Aldridge' for key 'PRIMARY'\")\n",
      "/usr/local/lib/python3.5/dist-packages/ipykernel_launcher.py:17: Warning: (1062, \"Duplicate entry '2015-Kyle Lowry' for key 'PRIMARY'\")\n",
      "/usr/local/lib/python3.5/dist-packages/ipykernel_launcher.py:17: Warning: (1062, \"Duplicate entry '2015-Chris Paul' for key 'PRIMARY'\")\n",
      "/usr/local/lib/python3.5/dist-packages/ipykernel_launcher.py:17: Warning: (1062, \"Duplicate entry '2015-Kyrie Irving' for key 'PRIMARY'\")\n",
      "/usr/local/lib/python3.5/dist-packages/ipykernel_launcher.py:17: Warning: (1062, \"Duplicate entry '2015-Russell Westbrook' for key 'PRIMARY'\")\n",
      "/usr/local/lib/python3.5/dist-packages/ipykernel_launcher.py:17: Warning: (1062, \"Duplicate entry '2015-Kyle Korver' for key 'PRIMARY'\")\n",
      "/usr/local/lib/python3.5/dist-packages/ipykernel_launcher.py:17: Warning: (1062, \"Duplicate entry '2015-DeMarcus Cousins' for key 'PRIMARY'\")\n",
      "/usr/local/lib/python3.5/dist-packages/ipykernel_launcher.py:17: Warning: (1062, \"Duplicate entry '2015-Paul Millsap' for key 'PRIMARY'\")\n",
      "/usr/local/lib/python3.5/dist-packages/ipykernel_launcher.py:17: Warning: (1062, \"Duplicate entry '2015-Damian Lillard' for key 'PRIMARY'\")\n",
      "/usr/local/lib/python3.5/dist-packages/ipykernel_launcher.py:17: Warning: (1062, \"Duplicate entry '2015-Al Horford' for key 'PRIMARY'\")\n",
      "/usr/local/lib/python3.5/dist-packages/ipykernel_launcher.py:17: Warning: (1062, \"Duplicate entry '2015-Tim Duncan' for key 'PRIMARY'\")\n",
      "/usr/local/lib/python3.5/dist-packages/ipykernel_launcher.py:17: Warning: (1062, \"Duplicate entry '2015-Jeff Teague' for key 'PRIMARY'\")\n",
      "/usr/local/lib/python3.5/dist-packages/ipykernel_launcher.py:17: Warning: (1062, \"Duplicate entry '2015-Dirk Nowitzki' for key 'PRIMARY'\")\n",
      "/usr/local/lib/python3.5/dist-packages/ipykernel_launcher.py:17: Warning: (1062, \"Duplicate entry '2015-Chris Bosh' for key 'PRIMARY'\")\n",
      "/usr/local/lib/python3.5/dist-packages/ipykernel_launcher.py:17: Warning: (1062, \"Duplicate entry '2015-Kevin Durant' for key 'PRIMARY'\")\n",
      "/usr/local/lib/python3.5/dist-packages/ipykernel_launcher.py:17: Warning: (1062, \"Duplicate entry '2015-Jimmy Butler' for key 'PRIMARY'\")\n",
      "/usr/local/lib/python3.5/dist-packages/ipykernel_launcher.py:17: Warning: (1062, \"Duplicate entry '2014-Kyrie Irving' for key 'PRIMARY'\")\n",
      "/usr/local/lib/python3.5/dist-packages/ipykernel_launcher.py:17: Warning: (1062, \"Duplicate entry '2014-Kevin Durant' for key 'PRIMARY'\")\n",
      "/usr/local/lib/python3.5/dist-packages/ipykernel_launcher.py:17: Warning: (1062, \"Duplicate entry '2014-LeBron James' for key 'PRIMARY'\")\n",
      "/usr/local/lib/python3.5/dist-packages/ipykernel_launcher.py:17: Warning: (1062, \"Duplicate entry '2014-Kevin Love' for key 'PRIMARY'\")\n",
      "/usr/local/lib/python3.5/dist-packages/ipykernel_launcher.py:17: Warning: (1062, \"Duplicate entry '2014-Paul George' for key 'PRIMARY'\")\n",
      "/usr/local/lib/python3.5/dist-packages/ipykernel_launcher.py:17: Warning: (1062, \"Duplicate entry '2014-Blake Griffin' for key 'PRIMARY'\")\n",
      "/usr/local/lib/python3.5/dist-packages/ipykernel_launcher.py:17: Warning: (1062, \"Duplicate entry '2014-Carmelo Anthony' for key 'PRIMARY'\")\n",
      "/usr/local/lib/python3.5/dist-packages/ipykernel_launcher.py:17: Warning: (1062, \"Duplicate entry '2014-Stephen Curry' for key 'PRIMARY'\")\n",
      "/usr/local/lib/python3.5/dist-packages/ipykernel_launcher.py:17: Warning: (1062, \"Duplicate entry '2014-Dwyane Wade' for key 'PRIMARY'\")\n",
      "/usr/local/lib/python3.5/dist-packages/ipykernel_launcher.py:17: Warning: (1062, \"Duplicate entry '2014-James Harden' for key 'PRIMARY'\")\n",
      "/usr/local/lib/python3.5/dist-packages/ipykernel_launcher.py:17: Warning: (1062, \"Duplicate entry '2014-Joakim Noah' for key 'PRIMARY'\")\n",
      "/usr/local/lib/python3.5/dist-packages/ipykernel_launcher.py:17: Warning: (1062, \"Duplicate entry '2014-Chris Paul' for key 'PRIMARY'\")\n",
      "/usr/local/lib/python3.5/dist-packages/ipykernel_launcher.py:17: Warning: (1062, \"Duplicate entry '2014-John Wall' for key 'PRIMARY'\")\n",
      "/usr/local/lib/python3.5/dist-packages/ipykernel_launcher.py:17: Warning: (1062, \"Duplicate entry '2014-Dwight Howard' for key 'PRIMARY'\")\n",
      "/usr/local/lib/python3.5/dist-packages/ipykernel_launcher.py:17: Warning: (1062, \"Duplicate entry '2014-DeMar DeRozan' for key 'PRIMARY'\")\n",
      "/usr/local/lib/python3.5/dist-packages/ipykernel_launcher.py:17: Warning: (1062, \"Duplicate entry '2014-LaMarcus Aldridge' for key 'PRIMARY'\")\n",
      "/usr/local/lib/python3.5/dist-packages/ipykernel_launcher.py:17: Warning: (1062, \"Duplicate entry '2014-Paul Millsap' for key 'PRIMARY'\")\n",
      "/usr/local/lib/python3.5/dist-packages/ipykernel_launcher.py:17: Warning: (1062, \"Duplicate entry '2014-Tony Parker' for key 'PRIMARY'\")\n",
      "/usr/local/lib/python3.5/dist-packages/ipykernel_launcher.py:17: Warning: (1062, \"Duplicate entry '2014-Roy Hibbert' for key 'PRIMARY'\")\n",
      "/usr/local/lib/python3.5/dist-packages/ipykernel_launcher.py:17: Warning: (1062, \"Duplicate entry '2014-Anthony Davis' for key 'PRIMARY'\")\n",
      "/usr/local/lib/python3.5/dist-packages/ipykernel_launcher.py:17: Warning: (1062, \"Duplicate entry '2014-Chris Bosh' for key 'PRIMARY'\")\n",
      "/usr/local/lib/python3.5/dist-packages/ipykernel_launcher.py:17: Warning: (1062, \"Duplicate entry '2014-Damian Lillard' for key 'PRIMARY'\")\n",
      "/usr/local/lib/python3.5/dist-packages/ipykernel_launcher.py:17: Warning: (1062, \"Duplicate entry '2014-Joe Johnson' for key 'PRIMARY'\")\n",
      "/usr/local/lib/python3.5/dist-packages/ipykernel_launcher.py:17: Warning: (1062, \"Duplicate entry '2014-Dirk Nowitzki' for key 'PRIMARY'\")\n"
     ]
    }
   ],
   "source": [
    "#Creating description table and fetch data \n",
    "cursor = con.cursor()\n",
    "table_name = 'allstars_data'\n",
    "\n",
    "query_template = '''INSERT IGNORE INTO {db}.{table}(year,\n",
    "                                                    player) \n",
    "                                                    VALUES (%s, %s)'''.format(db=db_name, table=table_name)\n",
    "\n",
    "cursor = con.cursor()\n",
    "\n",
    "for i in range(len(allstars_data)):\n",
    "    for j in range(len(allstars_data[i])):\n",
    "        year = allstars_data[i][j][0]\n",
    "        player = allstars_data[i][j][1]\n",
    "        \n",
    "        query_parameters = (year, player)\n",
    "        cursor.execute(query_template, query_parameters)\n",
    "\n",
    "con.commit()\n",
    "cursor.close()"
   ]
  },
  {
   "cell_type": "markdown",
   "metadata": {},
   "source": [
    "## 4. Stats coming into match"
   ]
  },
  {
   "cell_type": "code",
   "execution_count": 34,
   "metadata": {},
   "outputs": [],
   "source": [
    "#Connecting to MySQL database\n",
    "con = mdb.connect(host = 'localhost', \n",
    "                  user = 'root',\n",
    "                  passwd = '<password>', \n",
    "                  charset='utf8', use_unicode=True);"
   ]
  },
  {
   "cell_type": "code",
   "execution_count": 37,
   "metadata": {},
   "outputs": [],
   "source": [
    "#Create a table for Trending_Descriptions (static data)\n",
    "cursor = con.cursor()\n",
    "table_name = 'each_game_data'\n",
    "# Create a table\n",
    "# The {db} and {table} are placeholders for the parameters in the format(....) statement\n",
    "create_table_query = '''CREATE TABLE IF NOT EXISTS {db}.{table} \n",
    "                                (event_date datetime,\n",
    "                                opponent varchar(250), \n",
    "                                opp_wins int,\n",
    "                                opp_losses int,\n",
    "                                nets_wins int,\n",
    "                                nets_losses int,\n",
    "                                nets_1 varchar(250),\n",
    "                                nets_2 varchar(250),\n",
    "                                nets_3 varchar(250),\n",
    "                                nets_4 varchar(250),\n",
    "                                nets_5 varchar(250),\n",
    "                                opp_1 varchar(250),\n",
    "                                opp_2 varchar(250),\n",
    "                                opp_3 varchar(250),\n",
    "                                opp_4 varchar(250),\n",
    "                                opp_5 varchar(250),\n",
    "                                PRIMARY KEY(event_date)\n",
    "                                )'''.format(db=db_name, table=table_name)\n",
    "\n",
    "cursor.execute(create_table_query)\n",
    "cursor.close()"
   ]
  },
  {
   "cell_type": "code",
   "execution_count": 38,
   "metadata": {},
   "outputs": [],
   "source": [
    "#Creating description table and fetch data \n",
    "cursor = con.cursor()\n",
    "table_name = 'each_game_data'\n",
    "\n",
    "query_template = '''INSERT IGNORE INTO {db}.{table}(event_date,\n",
    "                                                    opponent, \n",
    "                                                    opp_wins,\n",
    "                                                    opp_losses,\n",
    "                                                    nets_wins,\n",
    "                                                    nets_losses,\n",
    "                                                    nets_1,\n",
    "                                                    nets_2,\n",
    "                                                    nets_3,\n",
    "                                                    nets_4,\n",
    "                                                    nets_5,\n",
    "                                                    opp_1,\n",
    "                                                    opp_2,\n",
    "                                                    opp_3,\n",
    "                                                    opp_4,\n",
    "                                                    opp_5)\n",
    "                                                    VALUES (%s, %s, %s, %s, %s, \n",
    "                                                    %s, %s, %s, %s, %s, %s, %s, \n",
    "                                                    %s, %s, %s, %s)'''.format(db=db_name, table=table_name)\n",
    "\n",
    "cursor = con.cursor()\n",
    "\n",
    "for i in range(len(each_game)):\n",
    "    event_date = each_game[i][0]\n",
    "    opponent = each_game[i][1][0]\n",
    "    opp_wins = each_game[i][1][1]\n",
    "    opp_losses = each_game[i][1][2]\n",
    "    nets_wins = each_game[i][1][3]\n",
    "    nets_losses = each_game[i][1][4]\n",
    "    nets_1 = each_game[i][1][5]\n",
    "    nets_2 = each_game[i][1][6]\n",
    "    nets_3 = each_game[i][1][7]\n",
    "    nets_4 = each_game[i][1][8]\n",
    "    nets_5 = each_game[i][1][9]\n",
    "    opp_1 = each_game[i][1][10]\n",
    "    opp_2 = each_game[i][1][11]\n",
    "    opp_3 = each_game[i][1][12]\n",
    "    opp_4 = each_game[i][1][13]\n",
    "    opp_5 =  each_game[i][1][14]\n",
    "    \n",
    "    query_parameters = (event_date, opponent, opp_wins, opp_losses, nets_wins,\n",
    "                       nets_losses, nets_1, nets_2, nets_3, nets_4, nets_5,\n",
    "                       opp_1, opp_2, opp_3, opp_4, opp_5)\n",
    "    cursor.execute(query_template, query_parameters)\n",
    "\n",
    "con.commit()\n",
    "cursor.close()"
   ]
  },
  {
   "cell_type": "code",
   "execution_count": null,
   "metadata": {},
   "outputs": [],
   "source": []
  }
 ],
 "metadata": {
  "kernelspec": {
   "display_name": "Python [default]",
   "language": "python",
   "name": "python3"
  },
  "language_info": {
   "codemirror_mode": {
    "name": "ipython",
    "version": 3
   },
   "file_extension": ".py",
   "mimetype": "text/x-python",
   "name": "python",
   "nbconvert_exporter": "python",
   "pygments_lexer": "ipython3",
   "version": "3.5.2"
  }
 },
 "nbformat": 4,
 "nbformat_minor": 2
}
